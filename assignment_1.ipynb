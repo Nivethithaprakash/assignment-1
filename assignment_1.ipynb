{
  "nbformat": 4,
  "nbformat_minor": 0,
  "metadata": {
    "colab": {
      "name": "assignment 1",
      "provenance": []
    },
    "kernelspec": {
      "name": "python3",
      "display_name": "Python 3"
    },
    "language_info": {
      "name": "python"
    }
  },
  "cells": [
    {
      "cell_type": "code",
      "source": [
        "DB=[[\"amul\",1234],[\"ravi\",5678],[\"raj\",1112],[\"anu\",1314]]\n",
        "print(\"please login\")\n",
        "userId= input(\"enter the user Id\")\n",
        "pW =int(input(\"enter the pw\"))\n",
        "a=[userId,pW]\n",
        "if a in DB:\n",
        "  print(\"you login sucessfully\", userId)\n",
        "else:\n",
        "    print(\"sorry, please register.\")\n",
        "    userId = input(\"enter your name:\")\n",
        "    password= int(input(\"enter your pw:\"))\n",
        "    DB.append(a)\n",
        "    print(\"you registered successfully\",userId)\n",
        "fullname = input(\"enter your fullname:\")\n",
        "Doj= input(\"enter the doj:\")   \n",
        "s1=input(\"from:\")\n",
        "s2=input(\"to:\")\n",
        "tickets= int(input(\"please enter no. of tickets:\"))\n",
        "dict={\"name\":fullname,\"doj\":Doj,\"s1\":s1,\"s2\":s2,\"no. of tickets\":tickets}\n",
        "x= input(\"enter your full name for booking details:\")\n",
        "if x==fullname:\n",
        "  print(\"please continue for payment\")\n",
        "else:\n",
        "  print(\"sorry check your name\")\n"
      ],
      "metadata": {
        "colab": {
          "base_uri": "https://localhost:8080/"
        },
        "id": "9TEW3ROTDpm4",
        "outputId": "52cab21a-786d-4b0a-b50c-71a06ecc161f"
      },
      "execution_count": 16,
      "outputs": [
        {
          "output_type": "stream",
          "name": "stdout",
          "text": [
            "please login\n",
            "enter the user Idnive\n",
            "enter the pw456\n",
            "sorry, please register.\n",
            "enter your name:nive\n",
            "enter your pw:8520\n",
            "you registered successfully nive\n",
            "enter your fullname:nivethitha\n",
            "enter the doj:2/4/2022\n",
            "from:chennai\n",
            "to:canada\n",
            "please enter no. of tickets:4\n",
            "enter your full name for booking details:nivethitha\n",
            "please continue for payment:\n"
          ]
        }
      ]
    },
    {
      "cell_type": "code",
      "source": [
        ""
      ],
      "metadata": {
        "id": "L8zrYmz9DziP"
      },
      "execution_count": null,
      "outputs": []
    }
  ]
}